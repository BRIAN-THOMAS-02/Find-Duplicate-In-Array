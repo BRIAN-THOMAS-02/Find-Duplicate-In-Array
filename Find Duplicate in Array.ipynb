{
 "cells": [
  {
   "cell_type": "markdown",
   "id": "e0b3e472",
   "metadata": {},
   "source": [
    "<div class=\"alert alert-block alert-success\" align=\"center\">\n",
    "\n",
    "# Coding Ninjas \n",
    "# (Interview Problem)\n",
    "\n",
    "</div>"
   ]
  },
  {
   "cell_type": "markdown",
   "id": "4627d023",
   "metadata": {},
   "source": [
    "***"
   ]
  },
  {
   "cell_type": "markdown",
   "id": "0cc59821",
   "metadata": {},
   "source": [
    "<div class=\"alert alert-block alert-warning\" align=\"center\">\n",
    " \n",
    "# ***Find Duplicate in Array***\n",
    "\n",
    "</div>"
   ]
  },
  {
   "cell_type": "markdown",
   "id": "2e47bd80",
   "metadata": {},
   "source": [
    "<div>\n",
    "    \n",
    "## Problem Statement : \n",
    "\n",
    "<b> You are given an array of integers 'ARR' containing N elements. <br> \n",
    "Each integer is in the range [1, N-1], with exactly one element repeated in the array. <br><br>\n",
    "Your task is to find the duplicate element. <br>\n",
    "     \n",
    "</div>"
   ]
  },
  {
   "cell_type": "markdown",
   "id": "d534f6cd",
   "metadata": {},
   "source": [
    "***"
   ]
  },
  {
   "cell_type": "markdown",
   "id": "aae59869",
   "metadata": {},
   "source": [
    "<div>\n",
    "        \n",
    "## Input format:\n",
    "    \n",
    "<b> 1] </b> The first line of input contains an integer <b>‘T’<u> denoting the number of test cases.</u></b> Then the T test cases follow. <br>\n",
    "\n",
    "&nbsp;&nbsp;&nbsp;&nbsp;&nbsp;&nbsp;&nbsp;&nbsp; <b> A) </b> The first line of each test case contains an integer <b>‘N’<u>, the number of elements in the array. </b></u> <br>\n",
    "\n",
    "&nbsp;&nbsp;&nbsp;&nbsp;&nbsp;&nbsp;&nbsp;&nbsp; <b> B) </b> The second line of each test case contains <b>‘N’<u> space-separated integers representing the elements of the array. </u></b> <br>\n",
    "    \n",
    "</div>"
   ]
  },
  {
   "cell_type": "markdown",
   "id": "aa5b5b03",
   "metadata": {},
   "source": [
    "<div>\n",
    "\n",
    "## Output format:\n",
    "    \n",
    "For each test case, the duplicate element of the given array is printed.\n",
    "\n",
    "#### The output of each test case is printed in a separate line. \n",
    "    \n",
    "</div>"
   ]
  },
  {
   "cell_type": "markdown",
   "id": "cec86a34",
   "metadata": {},
   "source": [
    "***"
   ]
  },
  {
   "cell_type": "markdown",
   "id": "bf97c317",
   "metadata": {},
   "source": [
    "<div>\n",
    "\n",
    "## Sample Input : \n",
    "1                  <br>\n",
    "3                  <br>\n",
    "1 1 2              <br>\n",
    "\n",
    "</div>"
   ]
  },
  {
   "cell_type": "markdown",
   "id": "64d2b94e",
   "metadata": {},
   "source": [
    "<div>\n",
    "\n",
    "## Sample Output :\n",
    "1 <br>\n",
    "    \n",
    "### Explanation of Sample Input 1:\n",
    "    \n",
    " 1 is repeated in the array, hence function returns 1.    \n",
    "\n",
    "\n",
    "</div>"
   ]
  },
  {
   "cell_type": "markdown",
   "id": "8a546e26",
   "metadata": {},
   "source": [
    "***"
   ]
  },
  {
   "cell_type": "markdown",
   "id": "52065138",
   "metadata": {},
   "source": [
    "<div  class=\"alert alert-block alert-success\" align=\"center\">\n",
    "\n",
    "# Whole Program\n",
    "\n",
    "</div>"
   ]
  },
  {
   "cell_type": "code",
   "execution_count": 35,
   "id": "9f593865",
   "metadata": {
    "scrolled": false
   },
   "outputs": [
    {
     "name": "stdout",
     "output_type": "stream",
     "text": [
      "Enter Number of Test Cases : 3\n",
      "\n",
      "-----------------------------------------------------------------------------------------------------\n",
      "\n",
      "Enter Number of Numbers to be entered : 5\n",
      "Enter Numbers of Array : 1 3 4 2 2\n",
      " \n",
      "[1, 3, 4, 2, 2]\n",
      "\n",
      "i : Outer Loop\n",
      "j : Inner Loop\n",
      "\n",
      "i | j | arr[i] = arr[j] | Boolean\n",
      "0 | 1 |    1   =   3    |  False\n",
      "0 | 2 |    1   =   4    |  False\n",
      "0 | 3 |    1   =   2    |  False\n",
      "0 | 4 |    1   =   2    |  False\n",
      "\n",
      "i | j | arr[i] = arr[j] | Boolean\n",
      "1 | 2 |    3   =   4    |  False\n",
      "1 | 3 |    3   =   2    |  False\n",
      "1 | 4 |    3   =   2    |  False\n",
      "\n",
      "i | j | arr[i] = arr[j] | Boolean\n",
      "2 | 3 |    4   =   2    |  False\n",
      "2 | 4 |    4   =   2    |  False\n",
      "\n",
      "i | j | arr[i] = arr[j] | Boolean\n",
      "3 | 4 |    2   =   2    |  True\n",
      "\n",
      "        Repeating Element = ' 2 '\n",
      "\n",
      "\n",
      "-----------------------------------------------------------------------------------------------------\n",
      "\n",
      "Enter Number of Numbers to be entered : 5\n",
      "Enter Numbers of Array : 3 1 3 4 2\n",
      " \n",
      "[3, 1, 3, 4, 2]\n",
      "\n",
      "i : Outer Loop\n",
      "j : Inner Loop\n",
      "\n",
      "i | j | arr[i] = arr[j] | Boolean\n",
      "0 | 1 |    3   =   1    |  False\n",
      "0 | 2 |    3   =   3    |  True\n",
      "\n",
      "        Repeating Element = ' 3 '\n",
      "\n",
      "0 | 3 |    3   =   4    |  False\n",
      "0 | 4 |    3   =   2    |  False\n",
      "\n",
      "i | j | arr[i] = arr[j] | Boolean\n",
      "1 | 2 |    1   =   3    |  False\n",
      "1 | 3 |    1   =   4    |  False\n",
      "1 | 4 |    1   =   2    |  False\n",
      "\n",
      "i | j | arr[i] = arr[j] | Boolean\n",
      "2 | 3 |    3   =   4    |  False\n",
      "2 | 4 |    3   =   2    |  False\n",
      "\n",
      "i | j | arr[i] = arr[j] | Boolean\n",
      "3 | 4 |    4   =   2    |  False\n",
      "\n",
      "-----------------------------------------------------------------------------------------------------\n",
      "\n",
      "Enter Number of Numbers to be entered : 3\n",
      "Enter Numbers of Array : 1 1 1\n",
      " \n",
      "[1, 1, 1]\n",
      "\n",
      "i : Outer Loop\n",
      "j : Inner Loop\n",
      "\n",
      "i | j | arr[i] = arr[j] | Boolean\n",
      "0 | 1 |    1   =   1    |  True\n",
      "\n",
      "        Repeating Element = ' 1 '\n",
      "\n",
      "0 | 2 |    1   =   1    |  True\n",
      "\n",
      "        Repeating Element = ' 1 '\n",
      "\n",
      "\n",
      "i | j | arr[i] = arr[j] | Boolean\n",
      "1 | 2 |    1   =   1    |  True\n",
      "\n",
      "        Repeating Element = ' 1 '\n",
      "\n"
     ]
    }
   ],
   "source": [
    "def findDuplicate(arr:list, n:int):\n",
    "    print(\" \")\n",
    "    print(arr)\n",
    "    print(\"\")\n",
    "\n",
    "    print(\"i : Outer Loop\")\n",
    "    print(\"j : Inner Loop\")\n",
    "    for i in range(len(arr)-1):\n",
    "        print(\"\")\n",
    "        print(\"i | j | arr[i] = arr[j] | Boolean\")\n",
    "        for j in range(i+1, len(arr)):\n",
    "            print(i,\"|\", j, \"|   \", arr[i], \"  =  \", arr[j], \"   | \", (arr[i] == arr[j]))\n",
    "            if (arr[i])==arr[j]:\n",
    "                print(\"\\n        Repeating Element = '\", arr[i],\"'\\n\")\n",
    "\n",
    "                \n",
    "test_cases = int(input(\"Enter Number of Test Cases : \"))\n",
    "\n",
    "while test_cases > 0:\n",
    "    print(\"\\n-----------------------------------------------------------------------------------------------------\\n\")\n",
    "    nums = int(input(\"Enter Number of Numbers to be entered : \"))\n",
    "    \n",
    "    arr = [int(i) for i in input(\"Enter Numbers of Array : \").split()]\n",
    "    n = len(arr)\n",
    "    \n",
    "    findDuplicate(arr, n)\n",
    "    \n",
    "    test_cases -=1"
   ]
  },
  {
   "cell_type": "markdown",
   "id": "a2545ca7",
   "metadata": {},
   "source": [
    "***"
   ]
  },
  {
   "cell_type": "markdown",
   "id": "6b0e14a5",
   "metadata": {},
   "source": [
    "<div class=\"alert alert-block alert-success\">\n",
    "\n",
    "## Basically we are: <br>\n",
    "    \n",
    "### <b> 1) </b> Traversing throughout the Array, \n",
    "### &nbsp;&nbsp;&nbsp;&nbsp;&nbsp;&nbsp;&nbsp;&nbsp;  & \n",
    "### <b> 2) </b> Finding the Repeated Number and <u>returning it. </u>\n",
    "\n",
    "    \n",
    "</div>"
   ]
  },
  {
   "cell_type": "markdown",
   "id": "7006647b",
   "metadata": {},
   "source": [
    "***"
   ]
  },
  {
   "cell_type": "markdown",
   "id": "a7256fc6",
   "metadata": {},
   "source": [
    "<div class=\"alert alert-block alert-warning\" align=\"center\">\n",
    " \n",
    "# ***Part by Part Explanation***\n",
    "\n",
    "</div>"
   ]
  },
  {
   "cell_type": "markdown",
   "id": "819f7e65",
   "metadata": {},
   "source": [
    "***"
   ]
  },
  {
   "cell_type": "markdown",
   "id": "2b1c50dd",
   "metadata": {},
   "source": [
    "<div>\n",
    "\n",
    "### 1] Taking input for Number of Test Cases: <br>\n",
    "\n",
    "</div>"
   ]
  },
  {
   "cell_type": "code",
   "execution_count": null,
   "id": "e5f9f33e",
   "metadata": {},
   "outputs": [],
   "source": [
    "test_cases = int(input())"
   ]
  },
  {
   "cell_type": "markdown",
   "id": "07cca798",
   "metadata": {},
   "source": [
    "***"
   ]
  },
  {
   "cell_type": "markdown",
   "id": "59b54ac0",
   "metadata": {},
   "source": [
    "### 2] Initiating a while loop if 'test_cases' > 0 : <br>\n",
    "\n",
    "    \n",
    "&nbsp;&nbsp;&nbsp;&nbsp;&nbsp; 1) &nbsp; <b>n</b> &nbsp; = &nbsp; Taking input for how many numbers are we going to input <br>\n",
    "    \n",
    "&nbsp;&nbsp;&nbsp;&nbsp;&nbsp; 3) <u><b>arr</b></u> &nbsp; = &nbsp; Taking Input of all the numbers into ar array! <br>\n",
    "    \n",
    "    \n",
    "&nbsp;&nbsp;&nbsp;&nbsp;&nbsp; 4) Calling the <u><b>'findDuplicate'</b></u> Function and passing the <u><b>'arr'</b></u> and <u><b>'n'</b></u> as parameters \n",
    "\n",
    "#### &nbsp;&nbsp;&nbsp;&nbsp;&nbsp; 5) After completing the Function provides the output!"
   ]
  },
  {
   "cell_type": "code",
   "execution_count": null,
   "id": "c6a4db9c",
   "metadata": {},
   "outputs": [],
   "source": [
    "while test_cases > 0:\n",
    "    nums = map(int,input().split())\n",
    "    \n",
    "    arr = [int(i) for i in input().split()]\n",
    "    n = len(arr)\n",
    "    \n",
    "    findDuplicate(arr, n)\n",
    "    \n",
    "    test_cases -=1"
   ]
  },
  {
   "cell_type": "markdown",
   "id": "03610e98",
   "metadata": {},
   "source": [
    "***"
   ]
  },
  {
   "cell_type": "markdown",
   "id": "1a24522e",
   "metadata": {},
   "source": [
    "<div class=\"alert alert-block alert-warning\">\n",
    "\n",
    "## 3] Function 'findDuplicate'\n",
    "    \n",
    "</div>"
   ]
  },
  {
   "cell_type": "markdown",
   "id": "1ccc6842",
   "metadata": {},
   "source": [
    "<div>\n",
    "\n",
    "### Setting 'i' as the Outer Iterator\n",
    "\n",
    "### Setting 'j' as the Inner Iterator\n",
    "\n",
    "Checking one-by-one Array Elements if they are matching and if they are Matching then print the Matching Element\n",
    "\n",
    "\n",
    "</div>"
   ]
  },
  {
   "cell_type": "code",
   "execution_count": null,
   "id": "c3c02090",
   "metadata": {},
   "outputs": [],
   "source": [
    "def findDuplicate(arr:list, n:int):\n",
    "    \n",
    "    for i in range(len(arr)):\n",
    "        \n",
    "        for j in range(i+1, len(arr)):\n",
    "            \n",
    "            if (arr[i]) == arr[j]:\n",
    "                print(arr[i])"
   ]
  },
  {
   "cell_type": "markdown",
   "id": "c4c11e30",
   "metadata": {},
   "source": [
    "***"
   ]
  },
  {
   "cell_type": "markdown",
   "id": "06308524",
   "metadata": {},
   "source": [
    "<div class=\"alert alert-block alert-success\" align=\"center\">\n",
    " \n",
    "# ***Program with Simple Output***\n",
    "\n",
    "</div>"
   ]
  },
  {
   "cell_type": "code",
   "execution_count": 31,
   "id": "d7bf5577",
   "metadata": {},
   "outputs": [
    {
     "name": "stdout",
     "output_type": "stream",
     "text": [
      "1\n",
      "3\n",
      "1 1 2\n",
      "1\n"
     ]
    }
   ],
   "source": [
    "def findDuplicate(arr:list, n:int):\n",
    "    \n",
    "    for i in range(len(arr)):\n",
    "        \n",
    "        for j in range(i+1, len(arr)):\n",
    "            \n",
    "            if (arr[i])==arr[j]:\n",
    "                print(arr[i])\n",
    " \n",
    "\n",
    "test_cases = int(input())\n",
    "\n",
    "while test_cases > 0:\n",
    "    nums = map(int,input().split())\n",
    "    \n",
    "    arr = [int(i) for i in input().split()]\n",
    "    n = len(arr)\n",
    "    \n",
    "    findDuplicate(arr, n)\n",
    "    \n",
    "    test_cases -=1"
   ]
  },
  {
   "cell_type": "markdown",
   "id": "a4329d0d",
   "metadata": {},
   "source": [
    "***"
   ]
  },
  {
   "cell_type": "markdown",
   "id": "f99176fc",
   "metadata": {},
   "source": [
    "<div class=\"alert alert-block alert-warning\" align=\"center\">\n",
    " \n",
    "# ***Program Submitted at Coding Ninjas***\n",
    "\n",
    "</div>"
   ]
  },
  {
   "cell_type": "code",
   "execution_count": null,
   "id": "63627613",
   "metadata": {},
   "outputs": [],
   "source": [
    "def findDuplicate(arr:list, n:int):\n",
    "\n",
    "    for i in range(len(arr)):\n",
    "        \n",
    "        for j in range(i+1, len(arr)):\n",
    "            \n",
    "            if (arr[i])==arr[j]:\n",
    "                \n",
    "                return arr[i]\n",
    "    pass"
   ]
  },
  {
   "cell_type": "markdown",
   "id": "bb2fcc10",
   "metadata": {},
   "source": [
    "***"
   ]
  },
  {
   "cell_type": "markdown",
   "id": "2d5a8fab",
   "metadata": {},
   "source": [
    "<div class=\"alert alert-block alert-success\" align=\"center\">\n",
    " \n",
    "# ***Thank - You***\n",
    "\n",
    "</div>"
   ]
  }
 ],
 "metadata": {
  "kernelspec": {
   "display_name": "Python 3 (ipykernel)",
   "language": "python",
   "name": "python3"
  },
  "language_info": {
   "codemirror_mode": {
    "name": "ipython",
    "version": 3
   },
   "file_extension": ".py",
   "mimetype": "text/x-python",
   "name": "python",
   "nbconvert_exporter": "python",
   "pygments_lexer": "ipython3",
   "version": "3.8.10"
  }
 },
 "nbformat": 4,
 "nbformat_minor": 5
}
